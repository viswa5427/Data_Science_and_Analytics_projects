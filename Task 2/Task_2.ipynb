{
  "nbformat": 4,
  "nbformat_minor": 0,
  "metadata": {
    "colab": {
      "name": "Task-2",
      "provenance": []
    },
    "kernelspec": {
      "name": "python3",
      "display_name": "Python 3"
    }
  },
  "cells": [
    {
      "cell_type": "markdown",
      "metadata": {
        "id": "eViL122-qN4l",
        "colab_type": "text"
      },
      "source": [
        "<h1>Task 2(Supervised Learning)</h1>\n",
        "<h4>In this regression task we will predict the percentage of marks that a student is expected to score based upon the number of hours they studied. This is a simple linear regression task as it includes two variables. After training the model predict the marks scored by a student who studie for 9.25 hours.</h4>"
      ]
    },
    {
      "cell_type": "markdown",
      "metadata": {
        "id": "jfe9es34rkIu",
        "colab_type": "text"
      },
      "source": [
        "<h2>Steps:</h2>\n",
        "<h4>\n",
        "\n",
        "*   Import all the required libraries\n",
        "\n",
        "*  Collection of data\n",
        "\n",
        "*  Visualization of data\n",
        "\n",
        "*  Segregation of the data for training and testing\n",
        "\n",
        "*  Training the data using Logistic Regression Algorithm\n",
        "\n",
        "*  Testing the data and finding its accuracy\n",
        "\n",
        "*  Predict the Result\n",
        "\n",
        "\n"
      ]
    },
    {
      "cell_type": "markdown",
      "metadata": {
        "id": "idqgyw1jswKV",
        "colab_type": "text"
      },
      "source": [
        "<h3>Importing all the required libraries"
      ]
    },
    {
      "cell_type": "code",
      "metadata": {
        "id": "hAFGc6V8bqTF",
        "colab_type": "code",
        "colab": {
          "base_uri": "https://localhost:8080/",
          "height": 72
        },
        "outputId": "d3416546-443b-4ba3-9d98-041ce505e60f"
      },
      "source": [
        "# importing the required libraries\n",
        "import numpy as np\n",
        "import pandas as pd\n",
        "import matplotlib.pyplot as plt\n",
        "import seaborn as sns"
      ],
      "execution_count": 1,
      "outputs": [
        {
          "output_type": "stream",
          "text": [
            "/usr/local/lib/python3.6/dist-packages/statsmodels/tools/_testing.py:19: FutureWarning: pandas.util.testing is deprecated. Use the functions in the public API at pandas.testing instead.\n",
            "  import pandas.util.testing as tm\n"
          ],
          "name": "stderr"
        }
      ]
    },
    {
      "cell_type": "markdown",
      "metadata": {
        "id": "lMVR5J5TtBPS",
        "colab_type": "text"
      },
      "source": [
        "<h3>Collection of data"
      ]
    },
    {
      "cell_type": "code",
      "metadata": {
        "id": "BHuvECJvcDUB",
        "colab_type": "code",
        "colab": {}
      },
      "source": [
        "# loading the dataset\n",
        "data = pd.read_csv('http://bit.ly/w-data')"
      ],
      "execution_count": 2,
      "outputs": []
    },
    {
      "cell_type": "code",
      "metadata": {
        "id": "2a5IC08mcIwg",
        "colab_type": "code",
        "colab": {
          "base_uri": "https://localhost:8080/",
          "height": 197
        },
        "outputId": "95bdc476-947f-4600-e372-422195437204"
      },
      "source": [
        "data.head()"
      ],
      "execution_count": 3,
      "outputs": [
        {
          "output_type": "execute_result",
          "data": {
            "text/html": [
              "<div>\n",
              "<style scoped>\n",
              "    .dataframe tbody tr th:only-of-type {\n",
              "        vertical-align: middle;\n",
              "    }\n",
              "\n",
              "    .dataframe tbody tr th {\n",
              "        vertical-align: top;\n",
              "    }\n",
              "\n",
              "    .dataframe thead th {\n",
              "        text-align: right;\n",
              "    }\n",
              "</style>\n",
              "<table border=\"1\" class=\"dataframe\">\n",
              "  <thead>\n",
              "    <tr style=\"text-align: right;\">\n",
              "      <th></th>\n",
              "      <th>Hours</th>\n",
              "      <th>Scores</th>\n",
              "    </tr>\n",
              "  </thead>\n",
              "  <tbody>\n",
              "    <tr>\n",
              "      <th>0</th>\n",
              "      <td>2.5</td>\n",
              "      <td>21</td>\n",
              "    </tr>\n",
              "    <tr>\n",
              "      <th>1</th>\n",
              "      <td>5.1</td>\n",
              "      <td>47</td>\n",
              "    </tr>\n",
              "    <tr>\n",
              "      <th>2</th>\n",
              "      <td>3.2</td>\n",
              "      <td>27</td>\n",
              "    </tr>\n",
              "    <tr>\n",
              "      <th>3</th>\n",
              "      <td>8.5</td>\n",
              "      <td>75</td>\n",
              "    </tr>\n",
              "    <tr>\n",
              "      <th>4</th>\n",
              "      <td>3.5</td>\n",
              "      <td>30</td>\n",
              "    </tr>\n",
              "  </tbody>\n",
              "</table>\n",
              "</div>"
            ],
            "text/plain": [
              "   Hours  Scores\n",
              "0    2.5      21\n",
              "1    5.1      47\n",
              "2    3.2      27\n",
              "3    8.5      75\n",
              "4    3.5      30"
            ]
          },
          "metadata": {
            "tags": []
          },
          "execution_count": 3
        }
      ]
    },
    {
      "cell_type": "code",
      "metadata": {
        "id": "O4o9kU8IcRD2",
        "colab_type": "code",
        "colab": {
          "base_uri": "https://localhost:8080/",
          "height": 287
        },
        "outputId": "b83a54d5-c0b3-4ecc-a9d4-93925270f01f"
      },
      "source": [
        "data.describe()"
      ],
      "execution_count": 4,
      "outputs": [
        {
          "output_type": "execute_result",
          "data": {
            "text/html": [
              "<div>\n",
              "<style scoped>\n",
              "    .dataframe tbody tr th:only-of-type {\n",
              "        vertical-align: middle;\n",
              "    }\n",
              "\n",
              "    .dataframe tbody tr th {\n",
              "        vertical-align: top;\n",
              "    }\n",
              "\n",
              "    .dataframe thead th {\n",
              "        text-align: right;\n",
              "    }\n",
              "</style>\n",
              "<table border=\"1\" class=\"dataframe\">\n",
              "  <thead>\n",
              "    <tr style=\"text-align: right;\">\n",
              "      <th></th>\n",
              "      <th>Hours</th>\n",
              "      <th>Scores</th>\n",
              "    </tr>\n",
              "  </thead>\n",
              "  <tbody>\n",
              "    <tr>\n",
              "      <th>count</th>\n",
              "      <td>25.000000</td>\n",
              "      <td>25.000000</td>\n",
              "    </tr>\n",
              "    <tr>\n",
              "      <th>mean</th>\n",
              "      <td>5.012000</td>\n",
              "      <td>51.480000</td>\n",
              "    </tr>\n",
              "    <tr>\n",
              "      <th>std</th>\n",
              "      <td>2.525094</td>\n",
              "      <td>25.286887</td>\n",
              "    </tr>\n",
              "    <tr>\n",
              "      <th>min</th>\n",
              "      <td>1.100000</td>\n",
              "      <td>17.000000</td>\n",
              "    </tr>\n",
              "    <tr>\n",
              "      <th>25%</th>\n",
              "      <td>2.700000</td>\n",
              "      <td>30.000000</td>\n",
              "    </tr>\n",
              "    <tr>\n",
              "      <th>50%</th>\n",
              "      <td>4.800000</td>\n",
              "      <td>47.000000</td>\n",
              "    </tr>\n",
              "    <tr>\n",
              "      <th>75%</th>\n",
              "      <td>7.400000</td>\n",
              "      <td>75.000000</td>\n",
              "    </tr>\n",
              "    <tr>\n",
              "      <th>max</th>\n",
              "      <td>9.200000</td>\n",
              "      <td>95.000000</td>\n",
              "    </tr>\n",
              "  </tbody>\n",
              "</table>\n",
              "</div>"
            ],
            "text/plain": [
              "           Hours     Scores\n",
              "count  25.000000  25.000000\n",
              "mean    5.012000  51.480000\n",
              "std     2.525094  25.286887\n",
              "min     1.100000  17.000000\n",
              "25%     2.700000  30.000000\n",
              "50%     4.800000  47.000000\n",
              "75%     7.400000  75.000000\n",
              "max     9.200000  95.000000"
            ]
          },
          "metadata": {
            "tags": []
          },
          "execution_count": 4
        }
      ]
    },
    {
      "cell_type": "markdown",
      "metadata": {
        "id": "1QtzD4xQtPBt",
        "colab_type": "text"
      },
      "source": [
        "<h3>Visualization of data</h3>\n",
        "<h5>Now we will plot the data to see if there's any kind of relation in them or not."
      ]
    },
    {
      "cell_type": "code",
      "metadata": {
        "id": "50pPl4fkcpk4",
        "colab_type": "code",
        "colab": {
          "base_uri": "https://localhost:8080/",
          "height": 295
        },
        "outputId": "90d5dc64-a9ec-4049-c0fb-4c69af00b482"
      },
      "source": [
        "# Plotting the data using matplotlib\n",
        "x = data['Hours']\n",
        "y = data['Scores']\n",
        "plt.scatter(x, y, label= \"Data points\", color=\"black\", marker=\"*\")\n",
        "plt.xlabel('Hours_studied')\n",
        "plt.ylabel('Student_Scores')\n",
        "plt.title('Hours vs Scores')\n",
        "plt.show()"
      ],
      "execution_count": 5,
      "outputs": [
        {
          "output_type": "display_data",
          "data": {
            "image/png": "[encoded data removed]",
            "text/plain": [
              "<Figure size 432x288 with 1 Axes>"
            ]
          },
          "metadata": {
            "tags": [],
            "needs_background": "light"
          }
        }
      ]
    },
    {
      "cell_type": "markdown",
      "metadata": {
        "id": "-JMLcBlIv5CP",
        "colab_type": "text"
      },
      "source": [
        "As we have seen above in the scatter plot that there is kind of linear relationship in Hours and Scores so before using linear regression let's check if there's any kind of correlation between them or not."
      ]
    },
    {
      "cell_type": "code",
      "metadata": {
        "id": "01eEWfE4deDN",
        "colab_type": "code",
        "colab": {
          "base_uri": "https://localhost:8080/",
          "height": 268
        },
        "outputId": "39cf1ba3-816d-4ac7-ba76-899b7a4c7466"
      },
      "source": [
        "# Finding the correlation matrix of the data\n",
        "relation = data.corr()\n",
        "sns.heatmap(relation, annot = True, cmap = 'summer' )\n",
        "plt.show()"
      ],
      "execution_count": 6,
      "outputs": [
        {
          "output_type": "display_data",
          "data": {
            "image/png": "[encoded data removed]",
            "text/plain": [
              "<Figure size 432x288 with 2 Axes>"
            ]
          },
          "metadata": {
            "tags": [],
            "needs_background": "light"
          }
        }
      ]
    },
    {
      "cell_type": "markdown",
      "metadata": {
        "id": "Wh7bbe1rtcg0",
        "colab_type": "text"
      },
      "source": [
        "<h3>Segregation of the data for training and testing"
      ]
    },
    {
      "cell_type": "code",
      "metadata": {
        "id": "plEE2I0MeTMd",
        "colab_type": "code",
        "colab": {}
      },
      "source": [
        "# Classification of data\n",
        "x = data.iloc[:, :-1].values\n",
        "y = data.iloc[:, 1].values"
      ],
      "execution_count": 7,
      "outputs": []
    },
    {
      "cell_type": "code",
      "metadata": {
        "id": "p3bY3Bswfdng",
        "colab_type": "code",
        "colab": {}
      },
      "source": [
        "# Spliting the data for training and testing\n",
        "from sklearn.model_selection import train_test_split\n",
        "x_train, x_test, y_train, y_test = train_test_split(x, y, test_size=0.2)"
      ],
      "execution_count": 17,
      "outputs": []
    },
    {
      "cell_type": "markdown",
      "metadata": {
        "id": "NyNxXziAt9mA",
        "colab_type": "text"
      },
      "source": [
        "<h3>Training the data using Logistic Regression Algorithm</h3>\n",
        "<h5>so let's just train our model using the train set. we are going to use LinearRegression of sklearn.</h5>"
      ]
    },
    {
      "cell_type": "code",
      "metadata": {
        "id": "yqgUBepIhS0j",
        "colab_type": "code",
        "colab": {
          "base_uri": "https://localhost:8080/",
          "height": 34
        },
        "outputId": "509c76de-20b2-4006-b857-c6486f8cf46a"
      },
      "source": [
        "# Fitting the data in the model\n",
        "from sklearn.linear_model import LinearRegression\n",
        "model = LinearRegression()\n",
        "model.fit(x_train, y_train)"
      ],
      "execution_count": 9,
      "outputs": [
        {
          "output_type": "execute_result",
          "data": {
            "text/plain": [
              "LinearRegression(copy_X=True, fit_intercept=True, n_jobs=None, normalize=False)"
            ]
          },
          "metadata": {
            "tags": []
          },
          "execution_count": 9
        }
      ]
    },
    {
      "cell_type": "markdown",
      "metadata": {
        "id": "DFxq4uYZxH2O",
        "colab_type": "text"
      },
      "source": [
        "<h3>Plotting the regression line</h3>\n",
        "<h5>Now that we have our data all trained so we will plot the best fit line or regression line using matplotlib's plot() method."
      ]
    },
    {
      "cell_type": "code",
      "metadata": {
        "id": "4QDM_16yiMh8",
        "colab_type": "code",
        "colab": {
          "base_uri": "https://localhost:8080/",
          "height": 264
        },
        "outputId": "2017cb9d-4363-401f-e0d3-0d2708eed363"
      },
      "source": [
        "# Plotting the test data\n",
        "plt.scatter(x, y, marker=\"*\")\n",
        "line = model.coef_ * x + model.intercept_\n",
        "plt.plot(x, line, color='black')\n",
        "plt.show()"
      ],
      "execution_count": 10,
      "outputs": [
        {
          "output_type": "display_data",
          "data": {
            "image/png": "[encoded data removed]",
            "text/plain": [
              "<Figure size 432x288 with 1 Axes>"
            ]
          },
          "metadata": {
            "tags": [],
            "needs_background": "light"
          }
        }
      ]
    },
    {
      "cell_type": "markdown",
      "metadata": {
        "id": "GVBA36chuU0z",
        "colab_type": "text"
      },
      "source": [
        "<h3>Testing the data and finding its accuracy"
      ]
    },
    {
      "cell_type": "code",
      "metadata": {
        "id": "IB6t_e_4miUV",
        "colab_type": "code",
        "colab": {
          "base_uri": "https://localhost:8080/",
          "height": 34
        },
        "outputId": "7a400ffe-51ff-4c12-eac9-a2b544dd669e"
      },
      "source": [
        "# Predicting the Result\n",
        "y_pred = model.predict(x_test)\n",
        "y_pred"
      ],
      "execution_count": 11,
      "outputs": [
        {
          "output_type": "execute_result",
          "data": {
            "text/plain": [
              "array([93.38476821, 52.83358005, 56.78979353, 39.97588625, 29.09629918])"
            ]
          },
          "metadata": {
            "tags": []
          },
          "execution_count": 11
        }
      ]
    },
    {
      "cell_type": "code",
      "metadata": {
        "id": "7Ck6GWPBo8Fq",
        "colab_type": "code",
        "colab": {
          "base_uri": "https://localhost:8080/",
          "height": 197
        },
        "outputId": "05c03b50-a10d-49f2-c623-db70a435a96d"
      },
      "source": [
        "# Comparing Actual vs Predicted\n",
        "pred_data = pd.DataFrame({'Actual': y_test, 'Predicted': y_pred})  \n",
        "pred_data"
      ],
      "execution_count": 13,
      "outputs": [
        {
          "output_type": "execute_result",
          "data": {
            "text/html": [
              "<div>\n",
              "<style scoped>\n",
              "    .dataframe tbody tr th:only-of-type {\n",
              "        vertical-align: middle;\n",
              "    }\n",
              "\n",
              "    .dataframe tbody tr th {\n",
              "        vertical-align: top;\n",
              "    }\n",
              "\n",
              "    .dataframe thead th {\n",
              "        text-align: right;\n",
              "    }\n",
              "</style>\n",
              "<table border=\"1\" class=\"dataframe\">\n",
              "  <thead>\n",
              "    <tr style=\"text-align: right;\">\n",
              "      <th></th>\n",
              "      <th>Actual</th>\n",
              "      <th>Predicted</th>\n",
              "    </tr>\n",
              "  </thead>\n",
              "  <tbody>\n",
              "    <tr>\n",
              "      <th>0</th>\n",
              "      <td>88</td>\n",
              "      <td>93.384768</td>\n",
              "    </tr>\n",
              "    <tr>\n",
              "      <th>1</th>\n",
              "      <td>47</td>\n",
              "      <td>52.833580</td>\n",
              "    </tr>\n",
              "    <tr>\n",
              "      <th>2</th>\n",
              "      <td>60</td>\n",
              "      <td>56.789794</td>\n",
              "    </tr>\n",
              "    <tr>\n",
              "      <th>3</th>\n",
              "      <td>35</td>\n",
              "      <td>39.975886</td>\n",
              "    </tr>\n",
              "    <tr>\n",
              "      <th>4</th>\n",
              "      <td>30</td>\n",
              "      <td>29.096299</td>\n",
              "    </tr>\n",
              "  </tbody>\n",
              "</table>\n",
              "</div>"
            ],
            "text/plain": [
              "   Actual  Predicted\n",
              "0      88  93.384768\n",
              "1      47  52.833580\n",
              "2      60  56.789794\n",
              "3      35  39.975886\n",
              "4      30  29.096299"
            ]
          },
          "metadata": {
            "tags": []
          },
          "execution_count": 13
        }
      ]
    },
    {
      "cell_type": "code",
      "metadata": {
        "id": "LZINoitGjQue",
        "colab_type": "code",
        "colab": {
          "base_uri": "https://localhost:8080/",
          "height": 52
        },
        "outputId": "1f854a59-384a-42ed-b431-968f2922e006"
      },
      "source": [
        "#Accuracy of training and testing data\n",
        "print(f'The train score:  {model.score(x_train,y_train)}')\n",
        "print(f'The test score:   {model.score(x_test,y_test)}')"
      ],
      "execution_count": 14,
      "outputs": [
        {
          "output_type": "stream",
          "text": [
            "The train score:  0.9521473017247299\n",
            "The test score:   0.9541668537374403\n"
          ],
          "name": "stdout"
        }
      ]
    },
    {
      "cell_type": "code",
      "metadata": {
        "id": "5NoIy7h-jxjW",
        "colab_type": "code",
        "colab": {
          "base_uri": "https://localhost:8080/",
          "height": 52
        },
        "outputId": "c7afc386-dd7c-478a-be24-ba95681d9003"
      },
      "source": [
        "# Calculating the mean absolute error and mean absolute error\n",
        "from sklearn.metrics import mean_absolute_error\n",
        "from sklearn.metrics import mean_squared_error\n",
        "print('mean squared error: ', mean_squared_error(y_test,y_pred))\n",
        "print('mean absolute error: ', mean_absolute_error(y_test,y_pred))"
      ],
      "execution_count": 15,
      "outputs": [
        {
          "output_type": "stream",
          "text": [
            "mean squared error:  19.781585926920837\n",
            "mean absolute error:  4.061628359953249\n"
          ],
          "name": "stdout"
        }
      ]
    },
    {
      "cell_type": "markdown",
      "metadata": {
        "id": "tmyha3dsujli",
        "colab_type": "text"
      },
      "source": [
        "<h3>Predict the Result"
      ]
    },
    {
      "cell_type": "code",
      "metadata": {
        "id": "DxGdtMBnj6EQ",
        "colab_type": "code",
        "colab": {
          "base_uri": "https://localhost:8080/",
          "height": 52
        },
        "outputId": "55ab7bcb-59dc-493b-c297-cb3ce883d1d5"
      },
      "source": [
        "# Predicting the result for the input of 9.25 Hours \n",
        "hours = [[9.25]]\n",
        "pred1 = model.predict(hours)\n",
        "print(\"Number of Hours = {}\".format(hours))\n",
        "print(\"Predicted Score = {}\".format(pred1))"
      ],
      "execution_count": 16,
      "outputs": [
        {
          "output_type": "stream",
          "text": [
            "Number of Hours = [[9.25]]\n",
            "Predicted Score = [93.8792949]\n"
          ],
          "name": "stdout"
        }
      ]
    },
    {
      "cell_type": "markdown",
      "metadata": {
        "id": "4lpLcI9zzJx9",
        "colab_type": "text"
      },
      "source": [
        "<h3>\n",
        "So the student studying for 9.25 hours will score 93.879 as predicted by our model.</h3>"
      ]
    }
  ]
}